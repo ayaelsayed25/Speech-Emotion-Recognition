{
  "metadata": {
    "kernelspec": {
      "language": "python",
      "display_name": "Python 3",
      "name": "python3"
    },
    "language_info": {
      "name": "python",
      "version": "3.7.12",
      "mimetype": "text/x-python",
      "codemirror_mode": {
        "name": "ipython",
        "version": 3
      },
      "pygments_lexer": "ipython3",
      "nbconvert_exporter": "python",
      "file_extension": ".py"
    },
    "colab": {
      "name": "Speech-Emotion-Recognition.ipynb",
      "provenance": [],
      "collapsed_sections": [],
      "include_colab_link": true
    },
    "accelerator": "GPU"
  },
  "nbformat_minor": 0,
  "nbformat": 4,
  "cells": [
    {
      "cell_type": "markdown",
      "metadata": {
        "id": "view-in-github",
        "colab_type": "text"
      },
      "source": [
        "<a href=\"https://colab.research.google.com/github/ayaelsayed25/Speech-Emotion-Recognition/blob/main/Speech_Emotion_Recognition.ipynb\" target=\"_parent\"><img src=\"https://colab.research.google.com/assets/colab-badge.svg\" alt=\"Open In Colab\"/></a>"
      ]
    },
    {
      "cell_type": "markdown",
      "source": [
        "# **Exploring Audios, Extracting Features, Dataset splitting**"
      ],
      "metadata": {
        "id": "aaZz6JHiWpIT"
      }
    },
    {
      "cell_type": "markdown",
      "source": [
        "**Load dataset and determine the avg length of the sound file (then all should have the same length)**"
      ],
      "metadata": {
        "id": "217NJhXoWpId"
      }
    },
    {
      "cell_type": "code",
      "source": [
        "from google.colab import drive\n",
        "drive.mount('/content/drive')\n",
        "!pip install keras-tuner"
      ],
      "metadata": {
        "id": "q1qNSnCOcHsj"
      },
      "execution_count": null,
      "outputs": []
    },
    {
      "cell_type": "code",
      "source": [
        "import numpy as np # linear algebra\n",
        "import pandas as pd # data processing, CSV file I/O (e.g. pd.read_csv)\n",
        "import os\n",
        "import librosa\n",
        "import zipfile\n",
        "import io\n",
        "# import drive\n",
        "zf = zipfile.ZipFile('/content/drive/My Drive/content/Crema.zip')\n",
        "zf.extractall('mydataset')"
      ],
      "metadata": {
        "id": "6Uld9WMTWvCU"
      },
      "execution_count": null,
      "outputs": []
    },
    {
      "cell_type": "code",
      "source": [
        "path = '/content/mydataset/Crema/'\n",
        "sounds = []\n",
        "labels = []\n",
        "for dirname, _, filenames in os.walk(path):\n",
        "    for filename in filenames:\n",
        "        label = filename[9:12]\n",
        "        sound = librosa.core.load(path+filename, sr=16000)[0]\n",
        "        labels.append(label)\n",
        "        sounds.append(sound)\n",
        "print(len(sounds))"
      ],
      "metadata": {
        "execution": {
          "iopub.status.busy": "2022-05-20T01:13:36.960565Z",
          "iopub.execute_input": "2022-05-20T01:13:36.961062Z",
          "iopub.status.idle": "2022-05-20T01:21:18.573224Z",
          "shell.execute_reply.started": "2022-05-20T01:13:36.960980Z",
          "shell.execute_reply": "2022-05-20T01:21:18.571193Z"
        },
        "trusted": true,
        "colab": {
          "base_uri": "https://localhost:8080/"
        },
        "id": "H9M6WCUIWpIe",
        "outputId": "b28ae0f6-e6af-4812-c7f1-e87952fbee17"
      },
      "execution_count": null,
      "outputs": [
        {
          "output_type": "stream",
          "name": "stdout",
          "text": [
            "7442\n"
          ]
        }
      ]
    },
    {
      "cell_type": "code",
      "source": [
        "import statistics\n",
        "import math\n",
        "avg_len = math.floor(statistics.mean(map(lambda sound: len(sound) , sounds)))\n",
        "print(avg_len)\n",
        "print(sound.shape)"
      ],
      "metadata": {
        "trusted": true,
        "colab": {
          "base_uri": "https://localhost:8080/"
        },
        "id": "yDX3nx2JWpIi",
        "outputId": "27b6dc7e-e873-46a1-f9e4-7ec7ab2396cc"
      },
      "execution_count": null,
      "outputs": [
        {
          "output_type": "stream",
          "name": "stdout",
          "text": [
            "40686\n",
            "(45912,)\n"
          ]
        }
      ]
    },
    {
      "cell_type": "code",
      "source": [
        "def add_padding(sound, required_len):\n",
        "    if len(sound)>required_len:  #if length of audio > required length, remove the difference\n",
        "        max_offset = len(sound)-required_len\n",
        "        offset = np.random.randint(max_offset)\n",
        "        sound = sound[offset:(required_len+offset)]\n",
        "    else:\n",
        "        if required_len > len(sound): #if length < required length, add padding\n",
        "            max_offset = required_len - len(sound)\n",
        "            offset = np.random.randint(max_offset)\n",
        "        else:  #if equal, do nothing, offset = 0\n",
        "            offset = 0\n",
        "        sound = np.pad(sound, (offset, required_len - len(sound) - offset), \"constant\")\n",
        "    return sound"
      ],
      "metadata": {
        "id": "L5Q9cHc6fZ5v"
      },
      "execution_count": null,
      "outputs": []
    },
    {
      "cell_type": "code",
      "source": [
        "def extract_features(sounds, required_len, melspectrogram):\n",
        "    #no normalization, no max and add padding only, constant sr\n",
        "    data = []\n",
        "    for sound in sounds: \n",
        "        sound = add_padding(sound, required_len)\n",
        "        if melspectrogram == True:\n",
        "          sound = librosa.feature.melspectrogram(y=sound, sr=16000) #extract the melspectrogram features\n",
        "          sound = librosa.power_to_db(sound,top_db=80, ref= np.max)\n",
        "        data.append(sound)\n",
        "    return data"
      ],
      "metadata": {
        "trusted": true,
        "id": "ZNiyZu2tWpIj"
      },
      "execution_count": null,
      "outputs": []
    },
    {
      "cell_type": "markdown",
      "source": [
        "# **Time Domain Features**"
      ],
      "metadata": {
        "id": "kzB5k3IKUTH5"
      }
    },
    {
      "cell_type": "code",
      "source": [
        "sounds = extract_features(sounds,avg_len, False)\n",
        "data = np.array(sounds)\n",
        "print(data.shape)"
      ],
      "metadata": {
        "colab": {
          "base_uri": "https://localhost:8080/"
        },
        "id": "rvqHAsHLfv-f",
        "outputId": "0bc502c9-7055-4772-c614-236f001d6335"
      },
      "execution_count": null,
      "outputs": [
        {
          "output_type": "stream",
          "name": "stdout",
          "text": [
            "(7442, 40686)\n"
          ]
        }
      ]
    },
    {
      "cell_type": "code",
      "source": [
        "from sklearn.preprocessing import LabelEncoder\n",
        "from tensorflow.keras.utils import to_categorical\n",
        "# Encode the classification labels\n",
        "labels = np.array(labels)\n",
        "le = LabelEncoder()\n",
        "labels = to_categorical(le.fit_transform(labels)) \n",
        "print(labels.shape)\n",
        "# split the dataset \n",
        "from sklearn.model_selection import train_test_split\n",
        "x_train, x_rem, y_train, y_rem = train_test_split(data,labels, train_size=0.7, random_state = 42)\n",
        "x_valid, x_test, y_valid, y_test = train_test_split(x_rem,y_rem, test_size=0.95, random_state =42)\n",
        "print(x_train.shape, y_train.shape, x_test.shape, y_test.shape, x_valid.shape, y_valid.shape)\n",
        "print(type(x_train))"
      ],
      "metadata": {
        "trusted": true,
        "id": "BxhMv0ScWpIo",
        "colab": {
          "base_uri": "https://localhost:8080/"
        },
        "outputId": "00c971d9-eeea-49ce-cc74-a315d32d0809"
      },
      "execution_count": null,
      "outputs": [
        {
          "output_type": "stream",
          "name": "stdout",
          "text": [
            "(7442, 6)\n",
            "(5209, 128, 80) (5209, 6) (2122, 128, 80) (2122, 6) (111, 128, 80) (111, 6)\n",
            "<class 'numpy.ndarray'>\n"
          ]
        }
      ]
    },
    {
      "cell_type": "code",
      "source": [
        "from tensorflow.keras.optimizers import Adam\n",
        "def build_model(hp) : \n",
        "  inputs = Input(shape=(x_train.shape[1],1))\n",
        "  conv = Conv1D( filters=hp.Int('conv_1_filter', min_value=4, max_value=16, step=2),\n",
        "          # adding filter size or kernel size\n",
        "          kernel_size=hp.Choice('conv_1_kernel', values = [3,15]),\n",
        "          #activation function\n",
        "          activation='relu', strides = 1)(inputs)\n",
        "  conv = MaxPooling1D(3)(conv)\n",
        "  conv = Dropout(0.3)(conv)\n",
        "\n",
        "  conv = Conv1D(filters=hp.Int('conv_1_filter', min_value=8, max_value=32, step=4),\n",
        "          # adding filter size or kernel size\n",
        "          kernel_size=hp.Choice('conv_1_kernel', values = [3,15]),activation = 'relu',strides = 1)(conv)\n",
        "  conv = MaxPooling1D(3)(conv)\n",
        "  conv = Dropout(0.3)(conv)\n",
        "\n",
        "  conv = Conv1D(filters=hp.Int('conv_1_filter', min_value=16, max_value=64, step=8),\n",
        "          # adding filter size or kernel size\n",
        "          kernel_size=hp.Choice('conv_1_kernel', values = [3,15]),activation = 'relu',strides = 1)(conv)\n",
        "  conv = MaxPooling1D(3)(conv)\n",
        "  conv = Dropout(0.3)(conv)\n",
        "\n",
        "  conv = Conv1D(filters=hp.Int('conv_1_filter', min_value=32, max_value=128, step=16),\n",
        "          # adding filter size or kernel size\n",
        "          kernel_size=hp.Choice('conv_1_kernel', values = [3,15]),padding='valid',activation = 'relu',strides = 1)(conv)\n",
        "  conv = MaxPooling1D(3)(conv)\n",
        "  conv = Dropout(0.3)(conv)\n",
        "\n",
        "  conv = Flatten()(conv)\n",
        "\n",
        "  conv = Dense(units=hp.Int('dense_1_units', min_value=32, max_value=128, step=16), activation = 'relu')(conv)\n",
        "  conv = Dropout(0.3)(conv)\n",
        "\n",
        "  conv = Dense(units=hp.Int('dense_1_units', min_value=32, max_value=128, step=16), activation = 'relu')(conv)\n",
        "  conv = Dropout(0.3)(conv)\n",
        "  outputs = Dense(labels.shape[1], activation='softmax')(conv)\n",
        "  model = Model(inputs, outputs)\n",
        "  model.summary()\n",
        "  model.compile(loss='categorical_crossentropy', optimizer=Adam(hp.Choice('learning_rate', values=[1e-2,1e-3])),metrics=['accuracy'])\n",
        "\n",
        "  return model"
      ],
      "metadata": {
        "id": "I_yWpn1j5720"
      },
      "execution_count": null,
      "outputs": []
    },
    {
      "cell_type": "code",
      "source": [
        "from kerastuner import RandomSearch\n",
        "from kerastuner.engine.hyperparameters import HyperParameters\n",
        "\n",
        "tuner_search = RandomSearch(build_model,objective='val_accuracy',max_trials=5,directory='output',project_name='haha')\n",
        "es = EarlyStopping(monitor='val_loss',mode='min', verbose = 1,patience = 10,min_delta = 0.0001)\n",
        "mc = ModelCheckpoint('best_model2.hdf5', monitor='val_acc', verbose=1,save_best_only=True,mode='max')\n",
        "\n",
        "tuner_search.search(x_train, y_train, epochs=50,callbacks=[es,mc],batch_size=32, validation_data=(x_valid,y_valid))\n",
        "best_model = tuner.get_best_models()[0]\n",
        "\n",
        "# history=model.fit(x_train,y_train,epochs=100,callbacks=[es,mc],batch_size=32,validation_data=(x_valid,y_valid))"
      ],
      "metadata": {
        "id": "ZuUrbxsz8mah"
      },
      "execution_count": null,
      "outputs": []
    },
    {
      "cell_type": "code",
      "source": [
        "tuner_search.search(x_train, y_train, epochs=50,callbacks=[es,mc],batch_size=32, validation_data=(x_valid,y_valid))\n",
        "best_model = tuner.get_best_models()[0]"
      ],
      "metadata": {
        "id": "B8upKqeaAYQi"
      },
      "execution_count": null,
      "outputs": []
    },
    {
      "cell_type": "code",
      "source": [
        "best_model = tuner_search.get_best_models()[0]"
      ],
      "metadata": {
        "id": "NdG2AbB6HreT"
      },
      "execution_count": null,
      "outputs": []
    },
    {
      "cell_type": "code",
      "source": [
        "from keras.layers import  Conv1D, MaxPooling1D, GlobalAveragePooling1D, Input, Dropout, Flatten, Dense\n",
        "from keras.models import Model\n",
        "from keras.callbacks import EarlyStopping, ModelCheckpoint\n",
        "from keras import backend as K\n",
        "\n",
        "inputs = Input(shape=(x_train.shape[1],1))\n",
        "conv = Conv1D(8,13,padding='valid',activation = 'relu',strides = 1)(inputs)\n",
        "conv = MaxPooling1D(3)(conv)\n",
        "conv = Dropout(0.3)(conv)\n",
        "\n",
        "conv = Conv1D(16,11,padding='valid',activation = 'relu',strides = 1)(conv)\n",
        "conv = MaxPooling1D(3)(conv)\n",
        "conv = Dropout(0.3)(conv)\n",
        "\n",
        "conv = Conv1D(32,9,padding='valid',activation = 'relu',strides = 1)(conv)\n",
        "conv = MaxPooling1D(3)(conv)\n",
        "conv = Dropout(0.3)(conv)\n",
        "\n",
        "conv = Conv1D(64,7,padding='valid',activation = 'relu',strides = 1)(conv)\n",
        "conv = MaxPooling1D(3)(conv)\n",
        "conv = Dropout(0.3)(conv)\n",
        "\n",
        "conv = Flatten()(conv)\n",
        "\n",
        "conv = Dense(256, activation = 'relu')(conv)\n",
        "conv = Dropout(0.3)(conv)\n",
        "\n",
        "conv = Dense(128, activation = 'relu')(conv)\n",
        "conv = Dropout(0.3)(conv)\n",
        "outputs = Dense(labels.shape[1], activation='softmax')(conv)\n",
        "model = Model(inputs, outputs)\n",
        "model.summary()\n",
        "model.compile(loss='categorical_crossentropy', optimizer='adam',metrics=['accuracy'])\n",
        "es = EarlyStopping(monitor='val_loss',mode='min', verbose = 1,patience = 10,min_delta = 0.0001)\n",
        "mc = ModelCheckpoint('best_model2.hdf5', monitor='val_acc', verbose=1,save_best_only=True,mode='max')\n",
        "history=model.fit(x_train,y_train,epochs=100,callbacks=[es,mc],batch_size=32,validation_data=(x_valid,y_valid))\n"
      ],
      "metadata": {
        "id": "HS7jPrGRgWVz"
      },
      "execution_count": null,
      "outputs": []
    },
    {
      "cell_type": "code",
      "source": [
        "score = model.evaluate(x_test, y_test, verbose=1)\n",
        "accuracy = 100*score[1]\n",
        "\n",
        "print(\"Pre-training accuracy: %.4f%%\" % accuracy) "
      ],
      "metadata": {
        "id": "vj7PS4QhyzF0"
      },
      "execution_count": null,
      "outputs": []
    },
    {
      "cell_type": "markdown",
      "source": [
        "# **Melspectrogram**"
      ],
      "metadata": {
        "id": "x_nYAfoVf2yk"
      }
    },
    {
      "cell_type": "code",
      "source": [
        "sounds = extract_features(sounds,avg_len, True)\n",
        "data = np.array(sounds)\n",
        "print(data.shape)"
      ],
      "metadata": {
        "trusted": true,
        "id": "_f3JI5AFWpIl",
        "outputId": "e851edde-008e-48c9-9c35-63bb6cf61eef",
        "colab": {
          "base_uri": "https://localhost:8080/"
        }
      },
      "execution_count": null,
      "outputs": [
        {
          "output_type": "stream",
          "name": "stdout",
          "text": [
            "(7442, 128, 80)\n"
          ]
        }
      ]
    },
    {
      "cell_type": "code",
      "source": [
        "from sklearn.preprocessing import LabelEncoder\n",
        "from tensorflow.keras.utils import to_categorical\n",
        "# Encode the classification labels\n",
        "labels = np.array(labels)\n",
        "le = LabelEncoder()\n",
        "labels = to_categorical(le.fit_transform(labels)) \n",
        "print(labels.shape)\n",
        "# split the dataset \n",
        "from sklearn.model_selection import train_test_split\n",
        "x_train, x_rem, y_train, y_rem = train_test_split(data,labels, train_size=0.7, random_state = 42)\n",
        "x_valid, x_test, y_valid, y_test = train_test_split(x_rem,y_rem, test_size=0.95, random_state =42)\n",
        "print(x_train.shape, y_train.shape, x_test.shape, y_test.shape, x_valid.shape, y_valid.shape)\n",
        "print(type(x_train))"
      ],
      "metadata": {
        "id": "5jO5Ea5fcGUx",
        "outputId": "4e0ab2fe-e6b7-48ba-cd7a-78053da39d75",
        "colab": {
          "base_uri": "https://localhost:8080/"
        }
      },
      "execution_count": null,
      "outputs": [
        {
          "output_type": "stream",
          "name": "stdout",
          "text": [
            "(7442, 6)\n",
            "(5209, 128, 80) (5209, 6) (2122, 128, 80) (2122, 6) (111, 128, 80) (111, 6)\n",
            "<class 'numpy.ndarray'>\n"
          ]
        }
      ]
    },
    {
      "cell_type": "markdown",
      "source": [
        "**Display Melspectrogram of a Given Audio**"
      ],
      "metadata": {
        "id": "-BrzPE5kWpIq"
      }
    },
    {
      "cell_type": "code",
      "source": [
        "import matplotlib.pyplot as plt\n",
        "import librosa.display\n",
        "def display_melspectrogram(filename):\n",
        "    y, sr = librosa.load(path+filename)\n",
        "    S = librosa.feature.melspectrogram(y=y, sr=sr, n_mels=128, fmax=8000)\n",
        "    fig, ax = plt.subplots()\n",
        "    S_dB = librosa.power_to_db(S, ref=np.max)\n",
        "    img = librosa.display.specshow(S_dB, x_axis='time', y_axis='mel', sr=sr, fmax=8000, ax=ax)\n",
        "    fig.colorbar(img, ax=ax, format='%+2.0f dB')\n",
        "    ax.set(title='Mel-frequency spectrogram')\n",
        "    plt.show()"
      ],
      "metadata": {
        "execution": {
          "iopub.status.busy": "2022-05-19T23:56:59.309422Z",
          "iopub.status.idle": "2022-05-19T23:56:59.309793Z",
          "shell.execute_reply.started": "2022-05-19T23:56:59.309618Z",
          "shell.execute_reply": "2022-05-19T23:56:59.309637Z"
        },
        "trusted": true,
        "id": "IvpAZqQiWpIr"
      },
      "execution_count": null,
      "outputs": []
    },
    {
      "cell_type": "code",
      "source": [
        "display_melspectrogram('1001_DFA_DIS_XX.wav')"
      ],
      "metadata": {
        "trusted": true,
        "id": "qm6MP5ZUWpIt"
      },
      "execution_count": null,
      "outputs": []
    },
    {
      "cell_type": "markdown",
      "source": [
        "# **Melspectrogram Model**"
      ],
      "metadata": {
        "id": "YPmGagmaWpIv"
      }
    },
    {
      "cell_type": "markdown",
      "source": [
        "**Preparation**"
      ],
      "metadata": {
        "id": "JmSi-4HXWpIv"
      }
    },
    {
      "cell_type": "code",
      "source": [
        "import numpy as np\n",
        "from keras.models import Sequential\n",
        "from keras.layers import Dense, Dropout, Activation, Flatten\n",
        "from keras.layers import Convolution2D, Conv2D, MaxPooling2D, GlobalAveragePooling2D\n",
        "from tensorflow.keras.optimizers import Adam\n",
        "from keras.utils import np_utils\n",
        "from sklearn import metrics\n",
        "\n",
        "num_rows = x_train.shape[1]\n",
        "num_columns = x_train.shape[2]\n",
        "num_channels = 1\n",
        "\n",
        "x_train = x_train.reshape(x_train.shape[0], num_rows, num_columns, num_channels)\n",
        "x_test = x_test.reshape(x_test.shape[0], num_rows, num_columns, num_channels)\n",
        "x_valid = x_valid.reshape(x_valid.shape[0], num_rows, num_columns, num_channels)\n",
        "\n",
        "num_labels = labels.shape[1]\n",
        "filter_size = 2\n",
        "pool_size = 2"
      ],
      "metadata": {
        "trusted": true,
        "id": "JHlx4OwGWpIw"
      },
      "execution_count": null,
      "outputs": []
    },
    {
      "cell_type": "markdown",
      "source": [
        "**Construct Model Version 1**"
      ],
      "metadata": {
        "id": "KRtFb-jmWpIx"
      }
    },
    {
      "cell_type": "code",
      "source": [
        "# model = None\n",
        "# model = Sequential()\n",
        "# model.add(Conv2D(filters=16, kernel_size=filter_size, input_shape=(num_rows, num_columns, num_channels), activation='relu', strides=1))\n",
        "# model.add(MaxPooling2D(pool_size=pool_size))\n",
        "# model.add(Dropout(0.2))\n",
        "\n",
        "# model.add(Conv2D(filters=32, kernel_size=filter_size, activation='relu', strides=1))\n",
        "# model.add(MaxPooling2D(pool_size=pool_size))\n",
        "# model.add(Dropout(0.2))\n",
        "\n",
        "# model.add(Conv2D(filters=64, kernel_size=filter_size, activation='relu', strides=1))\n",
        "# model.add(MaxPooling2D(pool_size=pool_size))\n",
        "# model.add(Dropout(0.2))\n",
        "\n",
        "# model.add(Conv2D(filters=128, kernel_size=filter_size, activation='relu', strides=1))\n",
        "# model.add(MaxPooling2D(pool_size=pool_size))\n",
        "# model.add(Dropout(0.2))\n",
        "# model.add(Dense(num_labels, activation='softmax'))"
      ],
      "metadata": {
        "execution": {
          "iopub.status.busy": "2022-05-19T23:53:06.02462Z",
          "iopub.status.idle": "2022-05-19T23:53:06.025372Z",
          "shell.execute_reply.started": "2022-05-19T23:53:06.025125Z",
          "shell.execute_reply": "2022-05-19T23:53:06.025149Z"
        },
        "trusted": true,
        "id": "2KdhpabIWpIy"
      },
      "execution_count": null,
      "outputs": []
    },
    {
      "cell_type": "markdown",
      "source": [
        "**Construct Model Version 2**"
      ],
      "metadata": {
        "id": "lDAyc68VWpIy"
      }
    },
    {
      "cell_type": "code",
      "source": [
        "# model = Sequential()\n",
        "# model.add(Conv2D(filters=16, kernel_size=filter_size, input_shape=(num_rows, num_columns, num_channels), activation='relu', strides=1))\n",
        "# model.add(MaxPooling2D(pool_size=pool_size))\n",
        "# model.add(Dropout(0.2))\n",
        "\n",
        "# model.add(Conv2D(filters=32, kernel_size=filter_size, activation='relu', strides=1))\n",
        "# model.add(MaxPooling2D(pool_size=pool_size))\n",
        "# model.add(Dropout(0.2))\n",
        "\n",
        "# model.add(Conv2D(filters=64, kernel_size=filter_size, activation='relu', strides=1))\n",
        "# model.add(MaxPooling2D(pool_size=pool_size))\n",
        "# model.add(Dropout(0.2))\n",
        "\n",
        "# model.add(Flatten())\n",
        "# model.add(Dense(256, activation='relu'))\n",
        "# model.add(Dropout(0.2))\n",
        "\n",
        "# model.add(Dense(128, activation='relu'))\n",
        "# model.add(Dropout(0.2))\n",
        "\n",
        "# model.add(Dense(num_labels, activation='softmax'))"
      ],
      "metadata": {
        "trusted": true,
        "id": "Bbt2WsSOWpIz"
      },
      "execution_count": null,
      "outputs": []
    },
    {
      "cell_type": "markdown",
      "source": [
        "**Construct Model Version 3**"
      ],
      "metadata": {
        "id": "kJ6yEnaoWRPY"
      }
    },
    {
      "cell_type": "code",
      "source": [
        "model = Sequential()\n",
        "model.add(Conv2D(filters=16, kernel_size=3, input_shape=(num_rows, num_columns, num_channels), activation='relu', strides=1))\n",
        "model.add(MaxPooling2D(pool_size=pool_size))\n",
        "model.add(Dropout(0.2))\n",
        "\n",
        "model.add(Conv2D(filters=32, kernel_size=3, activation='relu', strides=1))\n",
        "model.add(MaxPooling2D(pool_size=pool_size))\n",
        "model.add(Dropout(0.2))\n",
        "\n",
        "model.add(Conv2D(filters=64, kernel_size=3, activation='relu', strides=1))\n",
        "model.add(MaxPooling2D(pool_size=pool_size))\n",
        "model.add(Dropout(0.2))\n",
        "\n",
        "model.add(Flatten())\n",
        "model.add(Dense(512, activation='relu'))\n",
        "model.add(Dropout(0.2))\n",
        "\n",
        "model.add(Dense(256, activation='relu'))\n",
        "model.add(Dropout(0.2))\n",
        "\n",
        "model.add(Dense(128, activation='relu'))\n",
        "model.add(Dropout(0.2))\n",
        "\n",
        "model.add(Dense(num_labels, activation='softmax'))"
      ],
      "metadata": {
        "id": "iNIG-YpzWR2Q"
      },
      "execution_count": null,
      "outputs": []
    },
    {
      "cell_type": "code",
      "source": [
        "# Compile the model\n",
        "model.compile(loss='categorical_crossentropy', metrics=['accuracy'], optimizer='adam')\n",
        "\n",
        "# Display model architecture summary \n",
        "model.summary()\n",
        "\n",
        "# Calculate pre-training accuracy \n",
        "score = model.evaluate(x_test, y_test, verbose=1)\n",
        "accuracy = 100*score[1]\n",
        "\n",
        "print(\"Pre-training accuracy: %.4f%%\" % accuracy) "
      ],
      "metadata": {
        "trusted": true,
        "id": "isIs1ffPWpI0",
        "outputId": "b609b81d-9f25-4a30-c69e-e8de4f77b94f",
        "colab": {
          "base_uri": "https://localhost:8080/"
        }
      },
      "execution_count": null,
      "outputs": [
        {
          "output_type": "stream",
          "name": "stdout",
          "text": [
            "Model: \"sequential\"\n",
            "_________________________________________________________________\n",
            " Layer (type)                Output Shape              Param #   \n",
            "=================================================================\n",
            " conv2d (Conv2D)             (None, 126, 78, 16)       160       \n",
            "                                                                 \n",
            " max_pooling2d (MaxPooling2D  (None, 63, 39, 16)       0         \n",
            " )                                                               \n",
            "                                                                 \n",
            " dropout (Dropout)           (None, 63, 39, 16)        0         \n",
            "                                                                 \n",
            " conv2d_1 (Conv2D)           (None, 61, 37, 32)        4640      \n",
            "                                                                 \n",
            " max_pooling2d_1 (MaxPooling  (None, 30, 18, 32)       0         \n",
            " 2D)                                                             \n",
            "                                                                 \n",
            " dropout_1 (Dropout)         (None, 30, 18, 32)        0         \n",
            "                                                                 \n",
            " conv2d_2 (Conv2D)           (None, 28, 16, 64)        18496     \n",
            "                                                                 \n",
            " max_pooling2d_2 (MaxPooling  (None, 14, 8, 64)        0         \n",
            " 2D)                                                             \n",
            "                                                                 \n",
            " dropout_2 (Dropout)         (None, 14, 8, 64)         0         \n",
            "                                                                 \n",
            " flatten (Flatten)           (None, 7168)              0         \n",
            "                                                                 \n",
            " dense (Dense)               (None, 512)               3670528   \n",
            "                                                                 \n",
            " dropout_3 (Dropout)         (None, 512)               0         \n",
            "                                                                 \n",
            " dense_1 (Dense)             (None, 256)               131328    \n",
            "                                                                 \n",
            " dropout_4 (Dropout)         (None, 256)               0         \n",
            "                                                                 \n",
            " dense_2 (Dense)             (None, 128)               32896     \n",
            "                                                                 \n",
            " dropout_5 (Dropout)         (None, 128)               0         \n",
            "                                                                 \n",
            " dense_3 (Dense)             (None, 6)                 774       \n",
            "                                                                 \n",
            "=================================================================\n",
            "Total params: 3,858,822\n",
            "Trainable params: 3,858,822\n",
            "Non-trainable params: 0\n",
            "_________________________________________________________________\n",
            "67/67 [==============================] - 4s 6ms/step - loss: 13.2086 - accuracy: 0.1456\n",
            "Pre-training accuracy: 14.5617%\n"
          ]
        }
      ]
    },
    {
      "cell_type": "code",
      "source": [
        "from keras.callbacks import ModelCheckpoint \n",
        "from datetime import datetime \n",
        "\n",
        "num_epochs = 100\n",
        "num_batch_size = 256\n",
        "\n",
        "checkpointer = ModelCheckpoint(filepath='saved_models/weights.best.basic_cnn4.hdf5', \n",
        "                               verbose=1, save_best_only=True)\n",
        "start = datetime.now()\n",
        "\n",
        "model.fit(x_train, y_train, batch_size=num_batch_size, epochs=num_epochs, validation_data=(x_test, y_test), callbacks=[checkpointer], verbose=1)\n",
        "\n",
        "\n",
        "duration = datetime.now() - start\n",
        "print(\"Training completed in time: \", duration)"
      ],
      "metadata": {
        "trusted": true,
        "id": "uY3DLDs2WpI1"
      },
      "execution_count": null,
      "outputs": []
    },
    {
      "cell_type": "markdown",
      "source": [
        "# **Evaluation**"
      ],
      "metadata": {
        "id": "dny6aJ7ffEaP"
      }
    },
    {
      "cell_type": "code",
      "source": [
        "from sklearn.metrics import confusion_matrix\n",
        "from sklearn.metrics import classification_report\n",
        "score = model.evaluate(x_valid, y_valid, verbose=0)\n",
        "print(\"Accuracy\", score[1])\n",
        "y_predict = model.predict(x_valid)\n",
        "print(classification_report([np.argmax(i) for i in y_valid] ,[np.argmax(i) for i in y_predict]))\n",
        "cm=confusion_matrix([np.argmax(i) for i in y_valid] ,[np.argmax(i) for i in y_predict] )\n",
        "print(cm)"
      ],
      "metadata": {
        "id": "pzFg5ZzXfIAx",
        "outputId": "8b2bcb38-71c9-4594-e58e-741ddf05df37",
        "colab": {
          "base_uri": "https://localhost:8080/"
        }
      },
      "execution_count": null,
      "outputs": [
        {
          "output_type": "stream",
          "name": "stdout",
          "text": [
            "Accuracy 0.45045045018196106\n",
            "              precision    recall  f1-score   support\n",
            "\n",
            "           0       0.50      0.70      0.58        23\n",
            "           1       0.24      0.17      0.20        24\n",
            "           2       0.50      0.50      0.50        12\n",
            "           3       0.35      0.43      0.39        14\n",
            "           4       0.64      0.43      0.51        21\n",
            "           5       0.47      0.53      0.50        17\n",
            "\n",
            "    accuracy                           0.45       111\n",
            "   macro avg       0.45      0.46      0.45       111\n",
            "weighted avg       0.45      0.45      0.44       111\n",
            "\n",
            "[[16  2  2  2  1  0]\n",
            " [ 8  4  0  6  1  5]\n",
            " [ 0  1  6  2  0  3]\n",
            " [ 5  1  1  6  1  0]\n",
            " [ 3  5  1  1  9  2]\n",
            " [ 0  4  2  0  2  9]]\n"
          ]
        }
      ]
    }
  ]
}